{
 "cells": [
  {
   "cell_type": "markdown",
   "metadata": {},
   "source": [
    "## PROYECTO 3 - MODELO"
   ]
  },
  {
   "cell_type": "code",
   "execution_count": 1,
   "metadata": {},
   "outputs": [
    {
     "name": "stdout",
     "output_type": "stream",
     "text": [
      "WARNING:tensorflow:From c:\\Users\\danye\\AppData\\Local\\Programs\\Python\\Python311\\Lib\\site-packages\\keras\\src\\losses.py:2976: The name tf.losses.sparse_softmax_cross_entropy is deprecated. Please use tf.compat.v1.losses.sparse_softmax_cross_entropy instead.\n",
      "\n"
     ]
    }
   ],
   "source": [
    "#Importar librerías importantes\n",
    "\n",
    "import sys\n",
    "assert sys.version_info >= (3, 7)\n",
    "\n",
    "from packaging import version\n",
    "import sklearn\n",
    "assert version.parse(sklearn.__version__) >= version.parse(\"1.0.1\")\n",
    "\n",
    "import tensorflow as tf\n",
    "assert version.parse(tf.__version__) >= version.parse(\"2.8.0\")\n",
    "\n",
    "import pandas as pd\n",
    "\n",
    "import mlflow\n",
    "import mlflow.keras\n",
    "import keras\n",
    "import tensorflow as tf\n",
    "import tensorflow.keras as tk\n",
    "from keras import models\n",
    "from keras import layers\n",
    "\n",
    "import os\n",
    "\n"
   ]
  },
  {
   "cell_type": "code",
   "execution_count": 2,
   "metadata": {},
   "outputs": [],
   "source": [
    "datos = pd.read_csv(\"datosModelo.csv\")"
   ]
  },
  {
   "cell_type": "code",
   "execution_count": 3,
   "metadata": {},
   "outputs": [
    {
     "data": {
      "text/html": [
       "<div>\n",
       "<style scoped>\n",
       "    .dataframe tbody tr th:only-of-type {\n",
       "        vertical-align: middle;\n",
       "    }\n",
       "\n",
       "    .dataframe tbody tr th {\n",
       "        vertical-align: top;\n",
       "    }\n",
       "\n",
       "    .dataframe thead th {\n",
       "        text-align: right;\n",
       "    }\n",
       "</style>\n",
       "<table border=\"1\" class=\"dataframe\">\n",
       "  <thead>\n",
       "    <tr style=\"text-align: right;\">\n",
       "      <th></th>\n",
       "      <th>punt_ingles</th>\n",
       "      <th>punt_matematicas</th>\n",
       "      <th>punt_sociales_ciudadanas</th>\n",
       "      <th>punt_c_naturales</th>\n",
       "      <th>punt_lectura_critica</th>\n",
       "      <th>punt_global</th>\n",
       "      <th>año</th>\n",
       "      <th>estu_tipodocumento_CC</th>\n",
       "      <th>estu_tipodocumento_CE</th>\n",
       "      <th>estu_tipodocumento_CR</th>\n",
       "      <th>...</th>\n",
       "      <th>desemp_ingles_B1</th>\n",
       "      <th>semestre_1</th>\n",
       "      <th>semestre_2</th>\n",
       "      <th>semestre_4</th>\n",
       "      <th>año_nacimiento</th>\n",
       "      <th>cole_cod_dane_establecimiento_encoded</th>\n",
       "      <th>cole_cod_dane_sede_encoded</th>\n",
       "      <th>cole_cod_mcpio_ubicacion_encoded</th>\n",
       "      <th>estu_cod_mcpio_presentacion_encoded</th>\n",
       "      <th>estu_cod_reside_mcpio_encoded</th>\n",
       "    </tr>\n",
       "  </thead>\n",
       "  <tbody>\n",
       "    <tr>\n",
       "      <th>0</th>\n",
       "      <td>53.0</td>\n",
       "      <td>62.0</td>\n",
       "      <td>53.0</td>\n",
       "      <td>51.0</td>\n",
       "      <td>54.0</td>\n",
       "      <td>274.0</td>\n",
       "      <td>2015</td>\n",
       "      <td>False</td>\n",
       "      <td>False</td>\n",
       "      <td>False</td>\n",
       "      <td>...</td>\n",
       "      <td>False</td>\n",
       "      <td>False</td>\n",
       "      <td>True</td>\n",
       "      <td>False</td>\n",
       "      <td>1999</td>\n",
       "      <td>256.552815</td>\n",
       "      <td>256.552815</td>\n",
       "      <td>253.403924</td>\n",
       "      <td>270.286881</td>\n",
       "      <td>253.708284</td>\n",
       "    </tr>\n",
       "    <tr>\n",
       "      <th>1</th>\n",
       "      <td>68.0</td>\n",
       "      <td>72.0</td>\n",
       "      <td>69.0</td>\n",
       "      <td>66.0</td>\n",
       "      <td>72.0</td>\n",
       "      <td>348.0</td>\n",
       "      <td>2014</td>\n",
       "      <td>False</td>\n",
       "      <td>False</td>\n",
       "      <td>False</td>\n",
       "      <td>...</td>\n",
       "      <td>False</td>\n",
       "      <td>False</td>\n",
       "      <td>True</td>\n",
       "      <td>False</td>\n",
       "      <td>1997</td>\n",
       "      <td>275.371382</td>\n",
       "      <td>273.762494</td>\n",
       "      <td>278.796528</td>\n",
       "      <td>270.286881</td>\n",
       "      <td>278.376939</td>\n",
       "    </tr>\n",
       "    <tr>\n",
       "      <th>2</th>\n",
       "      <td>49.0</td>\n",
       "      <td>56.0</td>\n",
       "      <td>49.0</td>\n",
       "      <td>51.0</td>\n",
       "      <td>60.0</td>\n",
       "      <td>268.0</td>\n",
       "      <td>2016</td>\n",
       "      <td>False</td>\n",
       "      <td>False</td>\n",
       "      <td>False</td>\n",
       "      <td>...</td>\n",
       "      <td>False</td>\n",
       "      <td>False</td>\n",
       "      <td>True</td>\n",
       "      <td>False</td>\n",
       "      <td>1999</td>\n",
       "      <td>271.668806</td>\n",
       "      <td>271.668806</td>\n",
       "      <td>283.446840</td>\n",
       "      <td>280.093872</td>\n",
       "      <td>283.943115</td>\n",
       "    </tr>\n",
       "    <tr>\n",
       "      <th>3</th>\n",
       "      <td>52.0</td>\n",
       "      <td>68.0</td>\n",
       "      <td>52.0</td>\n",
       "      <td>54.0</td>\n",
       "      <td>64.0</td>\n",
       "      <td>295.0</td>\n",
       "      <td>2016</td>\n",
       "      <td>False</td>\n",
       "      <td>False</td>\n",
       "      <td>False</td>\n",
       "      <td>...</td>\n",
       "      <td>False</td>\n",
       "      <td>False</td>\n",
       "      <td>True</td>\n",
       "      <td>False</td>\n",
       "      <td>2000</td>\n",
       "      <td>244.459308</td>\n",
       "      <td>244.459308</td>\n",
       "      <td>244.459308</td>\n",
       "      <td>254.947960</td>\n",
       "      <td>244.459308</td>\n",
       "    </tr>\n",
       "    <tr>\n",
       "      <th>4</th>\n",
       "      <td>40.0</td>\n",
       "      <td>59.0</td>\n",
       "      <td>28.0</td>\n",
       "      <td>45.0</td>\n",
       "      <td>51.0</td>\n",
       "      <td>227.0</td>\n",
       "      <td>2019</td>\n",
       "      <td>False</td>\n",
       "      <td>False</td>\n",
       "      <td>False</td>\n",
       "      <td>...</td>\n",
       "      <td>False</td>\n",
       "      <td>False</td>\n",
       "      <td>False</td>\n",
       "      <td>True</td>\n",
       "      <td>2002</td>\n",
       "      <td>249.823691</td>\n",
       "      <td>249.823691</td>\n",
       "      <td>273.910278</td>\n",
       "      <td>273.099522</td>\n",
       "      <td>257.853831</td>\n",
       "    </tr>\n",
       "  </tbody>\n",
       "</table>\n",
       "<p>5 rows × 153 columns</p>\n",
       "</div>"
      ],
      "text/plain": [
       "   punt_ingles  punt_matematicas  punt_sociales_ciudadanas  punt_c_naturales  \\\n",
       "0         53.0              62.0                      53.0              51.0   \n",
       "1         68.0              72.0                      69.0              66.0   \n",
       "2         49.0              56.0                      49.0              51.0   \n",
       "3         52.0              68.0                      52.0              54.0   \n",
       "4         40.0              59.0                      28.0              45.0   \n",
       "\n",
       "   punt_lectura_critica  punt_global   año  estu_tipodocumento_CC  \\\n",
       "0                  54.0        274.0  2015                  False   \n",
       "1                  72.0        348.0  2014                  False   \n",
       "2                  60.0        268.0  2016                  False   \n",
       "3                  64.0        295.0  2016                  False   \n",
       "4                  51.0        227.0  2019                  False   \n",
       "\n",
       "   estu_tipodocumento_CE  estu_tipodocumento_CR  ...  desemp_ingles_B1  \\\n",
       "0                  False                  False  ...             False   \n",
       "1                  False                  False  ...             False   \n",
       "2                  False                  False  ...             False   \n",
       "3                  False                  False  ...             False   \n",
       "4                  False                  False  ...             False   \n",
       "\n",
       "   semestre_1  semestre_2  semestre_4  año_nacimiento  \\\n",
       "0       False        True       False            1999   \n",
       "1       False        True       False            1997   \n",
       "2       False        True       False            1999   \n",
       "3       False        True       False            2000   \n",
       "4       False       False        True            2002   \n",
       "\n",
       "   cole_cod_dane_establecimiento_encoded  cole_cod_dane_sede_encoded  \\\n",
       "0                             256.552815                  256.552815   \n",
       "1                             275.371382                  273.762494   \n",
       "2                             271.668806                  271.668806   \n",
       "3                             244.459308                  244.459308   \n",
       "4                             249.823691                  249.823691   \n",
       "\n",
       "   cole_cod_mcpio_ubicacion_encoded  estu_cod_mcpio_presentacion_encoded  \\\n",
       "0                        253.403924                           270.286881   \n",
       "1                        278.796528                           270.286881   \n",
       "2                        283.446840                           280.093872   \n",
       "3                        244.459308                           254.947960   \n",
       "4                        273.910278                           273.099522   \n",
       "\n",
       "   estu_cod_reside_mcpio_encoded  \n",
       "0                     253.708284  \n",
       "1                     278.376939  \n",
       "2                     283.943115  \n",
       "3                     244.459308  \n",
       "4                     257.853831  \n",
       "\n",
       "[5 rows x 153 columns]"
      ]
     },
     "execution_count": 3,
     "metadata": {},
     "output_type": "execute_result"
    }
   ],
   "source": [
    "datos.head()"
   ]
  },
  {
   "cell_type": "code",
   "execution_count": 4,
   "metadata": {},
   "outputs": [
    {
     "data": {
      "text/plain": [
       "Index(['punt_ingles', 'punt_matematicas', 'punt_sociales_ciudadanas',\n",
       "       'punt_c_naturales', 'punt_lectura_critica', 'punt_global', 'año',\n",
       "       'estu_tipodocumento_CC', 'estu_tipodocumento_CE',\n",
       "       'estu_tipodocumento_CR',\n",
       "       ...\n",
       "       'desemp_ingles_B1', 'semestre_1', 'semestre_2', 'semestre_4',\n",
       "       'año_nacimiento', 'cole_cod_dane_establecimiento_encoded',\n",
       "       'cole_cod_dane_sede_encoded', 'cole_cod_mcpio_ubicacion_encoded',\n",
       "       'estu_cod_mcpio_presentacion_encoded', 'estu_cod_reside_mcpio_encoded'],\n",
       "      dtype='object', length=153)"
      ]
     },
     "execution_count": 4,
     "metadata": {},
     "output_type": "execute_result"
    }
   ],
   "source": [
    "datos.columns"
   ]
  },
  {
   "cell_type": "code",
   "execution_count": 5,
   "metadata": {},
   "outputs": [
    {
     "data": {
      "text/plain": [
       "Index(['estu_tipodocumento_CC', 'estu_tipodocumento_CE',\n",
       "       'estu_tipodocumento_CR', 'estu_tipodocumento_NES',\n",
       "       'estu_tipodocumento_PC', 'estu_tipodocumento_PE',\n",
       "       'estu_tipodocumento_PEP', 'estu_tipodocumento_PPT',\n",
       "       'estu_tipodocumento_RC', 'estu_tipodocumento_TI',\n",
       "       ...\n",
       "       'fami_tienelavadora_No', 'fami_tienelavadora_Si', 'desemp_ingles_A-',\n",
       "       'desemp_ingles_A1', 'desemp_ingles_A2', 'desemp_ingles_B+',\n",
       "       'desemp_ingles_B1', 'semestre_1', 'semestre_2', 'semestre_4'],\n",
       "      dtype='object', length=140)"
      ]
     },
     "execution_count": 5,
     "metadata": {},
     "output_type": "execute_result"
    }
   ],
   "source": [
    "varscategoricas = datos.select_dtypes(include=['object', 'bool']).columns\n",
    "varscategoricas"
   ]
  },
  {
   "cell_type": "code",
   "execution_count": 6,
   "metadata": {},
   "outputs": [
    {
     "data": {
      "text/plain": [
       "Index(['punt_ingles', 'punt_matematicas', 'punt_sociales_ciudadanas',\n",
       "       'punt_c_naturales', 'punt_lectura_critica', 'punt_global', 'año',\n",
       "       'año_nacimiento', 'cole_cod_dane_establecimiento_encoded',\n",
       "       'cole_cod_dane_sede_encoded', 'cole_cod_mcpio_ubicacion_encoded',\n",
       "       'estu_cod_mcpio_presentacion_encoded', 'estu_cod_reside_mcpio_encoded'],\n",
       "      dtype='object')"
      ]
     },
     "execution_count": 6,
     "metadata": {},
     "output_type": "execute_result"
    }
   ],
   "source": [
    "varsnumericas = numeric_cols = datos.select_dtypes(include=['int64', 'float64']).columns\n",
    "varsnumericas"
   ]
  },
  {
   "cell_type": "code",
   "execution_count": 18,
   "metadata": {},
   "outputs": [
    {
     "data": {
      "text/plain": [
       "Index(['año', 'estu_tipodocumento_CC', 'estu_tipodocumento_CE',\n",
       "       'estu_tipodocumento_CR', 'estu_tipodocumento_NES',\n",
       "       'estu_tipodocumento_PC', 'estu_tipodocumento_PE',\n",
       "       'estu_tipodocumento_PEP', 'estu_tipodocumento_PPT',\n",
       "       'estu_tipodocumento_RC',\n",
       "       ...\n",
       "       'desemp_ingles_B1', 'semestre_1', 'semestre_2', 'semestre_4',\n",
       "       'año_nacimiento', 'cole_cod_dane_establecimiento_encoded',\n",
       "       'cole_cod_dane_sede_encoded', 'cole_cod_mcpio_ubicacion_encoded',\n",
       "       'estu_cod_mcpio_presentacion_encoded', 'estu_cod_reside_mcpio_encoded'],\n",
       "      dtype='object', length=147)"
      ]
     },
     "execution_count": 18,
     "metadata": {},
     "output_type": "execute_result"
    }
   ],
   "source": [
    "X = datos.drop(columns=['punt_global', 'punt_ingles', 'punt_matematicas', 'punt_sociales_ciudadanas', 'punt_c_naturales', 'punt_lectura_critica']) # Excluimos las variables de puntajes individuales\n",
    "y = datos['punt_global']\n"
   ]
  },
  {
   "cell_type": "code",
   "execution_count": 5,
   "metadata": {},
   "outputs": [],
   "source": [
    "# Dividir en conjuntos de entrenamiento y prueba\n",
    "from sklearn.model_selection import train_test_split\n",
    "\n",
    "X_train, X_test, y_train, y_test = train_test_split(X, y, test_size=0.2, random_state=42)"
   ]
  },
  {
   "cell_type": "code",
   "execution_count": 9,
   "metadata": {},
   "outputs": [],
   "source": [
    "# Normalizar los datos\n",
    "from sklearn.preprocessing import StandardScaler\n",
    "scaler = StandardScaler()\n",
    "X_train_scaled = scaler.fit_transform(X_train)\n",
    "X_test_scaled = scaler.transform(X_test)\n"
   ]
  },
  {
   "cell_type": "code",
   "execution_count": 10,
   "metadata": {},
   "outputs": [
    {
     "name": "stdout",
     "output_type": "stream",
     "text": [
      "WARNING:tensorflow:From c:\\Users\\danye\\AppData\\Local\\Programs\\Python\\Python311\\Lib\\site-packages\\keras\\src\\backend.py:873: The name tf.get_default_graph is deprecated. Please use tf.compat.v1.get_default_graph instead.\n",
      "\n"
     ]
    }
   ],
   "source": [
    "# Construir el modelo\n",
    "\n",
    "from tensorflow.keras.models import Sequential\n",
    "from tensorflow.keras.layers import Dense\n",
    "\n",
    "model = Sequential()\n",
    "model.add(Dense(128, input_dim=X_train.shape[1], activation='relu'))\n",
    "model.add(Dense(64, activation='relu'))\n",
    "model.add(Dense(32, activation='relu'))\n",
    "model.add(Dense(1, activation='linear'))"
   ]
  },
  {
   "cell_type": "code",
   "execution_count": 11,
   "metadata": {},
   "outputs": [
    {
     "name": "stdout",
     "output_type": "stream",
     "text": [
      "WARNING:tensorflow:From c:\\Users\\danye\\AppData\\Local\\Programs\\Python\\Python311\\Lib\\site-packages\\keras\\src\\optimizers\\__init__.py:309: The name tf.train.Optimizer is deprecated. Please use tf.compat.v1.train.Optimizer instead.\n",
      "\n"
     ]
    }
   ],
   "source": [
    "# Compilar el modelo\n",
    "model.compile(optimizer='adam', loss='mean_squared_error', metrics=['mean_absolute_error'])"
   ]
  },
  {
   "cell_type": "code",
   "execution_count": 12,
   "metadata": {},
   "outputs": [],
   "source": [
    "# Definir Early Stopping\n",
    "from tensorflow.keras.callbacks import EarlyStopping\n",
    "early_stopping = EarlyStopping(monitor='val_loss', patience=10, restore_best_weights=True)"
   ]
  },
  {
   "cell_type": "code",
   "execution_count": 13,
   "metadata": {},
   "outputs": [
    {
     "name": "stdout",
     "output_type": "stream",
     "text": [
      "<class 'pandas.core.frame.DataFrame'>\n",
      "RangeIndex: 87884 entries, 0 to 87883\n",
      "Columns: 153 entries, punt_ingles to estu_cod_reside_mcpio_encoded\n",
      "dtypes: bool(140), float64(11), int64(2)\n",
      "memory usage: 20.5 MB\n"
     ]
    }
   ],
   "source": [
    "datos.info()"
   ]
  },
  {
   "cell_type": "code",
   "execution_count": 13,
   "metadata": {},
   "outputs": [
    {
     "name": "stdout",
     "output_type": "stream",
     "text": [
      "Epoch 1/100\n",
      "WARNING:tensorflow:From c:\\Users\\danye\\AppData\\Local\\Programs\\Python\\Python311\\Lib\\site-packages\\keras\\src\\utils\\tf_utils.py:492: The name tf.ragged.RaggedTensorValue is deprecated. Please use tf.compat.v1.ragged.RaggedTensorValue instead.\n",
      "\n",
      "WARNING:tensorflow:From c:\\Users\\danye\\AppData\\Local\\Programs\\Python\\Python311\\Lib\\site-packages\\keras\\src\\engine\\base_layer_utils.py:384: The name tf.executing_eagerly_outside_functions is deprecated. Please use tf.compat.v1.executing_eagerly_outside_functions instead.\n",
      "\n",
      "1758/1758 [==============================] - 7s 3ms/step - loss: 3533.0593 - mean_absolute_error: 35.3187 - val_loss: 974.8003 - val_mean_absolute_error: 24.7687\n",
      "Epoch 2/100\n",
      "1758/1758 [==============================] - 3s 2ms/step - loss: 926.2881 - mean_absolute_error: 24.1958 - val_loss: 990.1169 - val_mean_absolute_error: 25.0255\n",
      "Epoch 3/100\n",
      "1758/1758 [==============================] - 3s 2ms/step - loss: 897.0597 - mean_absolute_error: 23.8566 - val_loss: 958.8554 - val_mean_absolute_error: 24.5784\n",
      "Epoch 4/100\n",
      "1758/1758 [==============================] - 4s 2ms/step - loss: 879.0594 - mean_absolute_error: 23.6471 - val_loss: 941.0718 - val_mean_absolute_error: 24.3162\n",
      "Epoch 5/100\n",
      "1758/1758 [==============================] - 3s 2ms/step - loss: 865.7296 - mean_absolute_error: 23.4359 - val_loss: 934.5999 - val_mean_absolute_error: 24.2863\n",
      "Epoch 6/100\n",
      "1758/1758 [==============================] - 3s 2ms/step - loss: 856.0465 - mean_absolute_error: 23.3415 - val_loss: 928.6956 - val_mean_absolute_error: 24.2578\n",
      "Epoch 7/100\n",
      "1758/1758 [==============================] - 3s 2ms/step - loss: 847.0726 - mean_absolute_error: 23.1863 - val_loss: 969.8414 - val_mean_absolute_error: 24.6983\n",
      "Epoch 8/100\n",
      "1758/1758 [==============================] - 4s 2ms/step - loss: 842.7209 - mean_absolute_error: 23.1398 - val_loss: 933.7244 - val_mean_absolute_error: 24.3011\n",
      "Epoch 9/100\n",
      "1758/1758 [==============================] - 4s 2ms/step - loss: 834.1961 - mean_absolute_error: 23.0262 - val_loss: 933.6545 - val_mean_absolute_error: 24.3005\n",
      "Epoch 10/100\n",
      "1758/1758 [==============================] - 4s 2ms/step - loss: 832.9029 - mean_absolute_error: 22.9955 - val_loss: 939.4480 - val_mean_absolute_error: 24.3391\n",
      "Epoch 11/100\n",
      "1758/1758 [==============================] - 3s 2ms/step - loss: 827.6077 - mean_absolute_error: 22.9453 - val_loss: 959.0474 - val_mean_absolute_error: 24.6216\n",
      "Epoch 12/100\n",
      "1758/1758 [==============================] - 3s 2ms/step - loss: 821.0322 - mean_absolute_error: 22.8543 - val_loss: 938.9697 - val_mean_absolute_error: 24.3386\n",
      "Epoch 13/100\n",
      "1758/1758 [==============================] - 3s 2ms/step - loss: 818.1160 - mean_absolute_error: 22.7939 - val_loss: 928.1937 - val_mean_absolute_error: 24.3152\n",
      "Epoch 14/100\n",
      "1758/1758 [==============================] - 4s 2ms/step - loss: 815.2328 - mean_absolute_error: 22.7454 - val_loss: 937.0798 - val_mean_absolute_error: 24.4647\n",
      "Epoch 15/100\n",
      "1758/1758 [==============================] - 3s 2ms/step - loss: 812.3905 - mean_absolute_error: 22.7212 - val_loss: 925.6246 - val_mean_absolute_error: 24.2058\n",
      "Epoch 16/100\n",
      "1758/1758 [==============================] - 3s 2ms/step - loss: 805.8499 - mean_absolute_error: 22.5992 - val_loss: 920.7518 - val_mean_absolute_error: 24.1846\n",
      "Epoch 17/100\n",
      "1758/1758 [==============================] - 4s 2ms/step - loss: 804.4847 - mean_absolute_error: 22.6038 - val_loss: 925.3647 - val_mean_absolute_error: 24.2801\n",
      "Epoch 18/100\n",
      "1758/1758 [==============================] - 3s 2ms/step - loss: 800.3863 - mean_absolute_error: 22.5454 - val_loss: 917.0731 - val_mean_absolute_error: 24.1769\n",
      "Epoch 19/100\n",
      "1758/1758 [==============================] - 3s 2ms/step - loss: 798.7981 - mean_absolute_error: 22.5078 - val_loss: 919.8763 - val_mean_absolute_error: 24.2399\n",
      "Epoch 20/100\n",
      "1758/1758 [==============================] - 4s 2ms/step - loss: 794.5813 - mean_absolute_error: 22.4800 - val_loss: 951.5831 - val_mean_absolute_error: 24.6818\n",
      "Epoch 21/100\n",
      "1758/1758 [==============================] - 4s 2ms/step - loss: 793.9990 - mean_absolute_error: 22.4227 - val_loss: 957.9100 - val_mean_absolute_error: 24.7617\n",
      "Epoch 22/100\n",
      "1758/1758 [==============================] - 3s 2ms/step - loss: 792.0646 - mean_absolute_error: 22.4266 - val_loss: 919.0283 - val_mean_absolute_error: 24.2528\n",
      "Epoch 23/100\n",
      "1758/1758 [==============================] - 3s 2ms/step - loss: 788.0010 - mean_absolute_error: 22.3436 - val_loss: 927.9009 - val_mean_absolute_error: 24.3693\n",
      "Epoch 24/100\n",
      "1758/1758 [==============================] - 3s 2ms/step - loss: 785.5447 - mean_absolute_error: 22.3309 - val_loss: 912.1254 - val_mean_absolute_error: 24.1160\n",
      "Epoch 25/100\n",
      "1758/1758 [==============================] - 3s 2ms/step - loss: 784.3477 - mean_absolute_error: 22.3110 - val_loss: 911.5278 - val_mean_absolute_error: 24.1020\n",
      "Epoch 26/100\n",
      "1758/1758 [==============================] - 3s 2ms/step - loss: 781.2850 - mean_absolute_error: 22.2652 - val_loss: 912.5398 - val_mean_absolute_error: 24.1288\n",
      "Epoch 27/100\n",
      "1758/1758 [==============================] - 4s 2ms/step - loss: 779.1686 - mean_absolute_error: 22.2484 - val_loss: 922.9588 - val_mean_absolute_error: 24.2582\n",
      "Epoch 28/100\n",
      "1758/1758 [==============================] - 3s 2ms/step - loss: 776.9303 - mean_absolute_error: 22.1915 - val_loss: 940.4647 - val_mean_absolute_error: 24.5596\n",
      "Epoch 29/100\n",
      "1758/1758 [==============================] - 3s 2ms/step - loss: 774.1647 - mean_absolute_error: 22.1881 - val_loss: 921.0748 - val_mean_absolute_error: 24.2111\n",
      "Epoch 30/100\n",
      "1758/1758 [==============================] - 3s 2ms/step - loss: 773.4940 - mean_absolute_error: 22.1503 - val_loss: 935.5636 - val_mean_absolute_error: 24.4005\n",
      "Epoch 31/100\n",
      "1758/1758 [==============================] - 3s 2ms/step - loss: 772.1818 - mean_absolute_error: 22.1230 - val_loss: 918.1585 - val_mean_absolute_error: 24.1278\n",
      "Epoch 32/100\n",
      "1758/1758 [==============================] - 3s 2ms/step - loss: 766.6090 - mean_absolute_error: 22.0626 - val_loss: 927.3546 - val_mean_absolute_error: 24.2936\n",
      "Epoch 33/100\n",
      "1758/1758 [==============================] - 3s 2ms/step - loss: 764.6995 - mean_absolute_error: 22.0290 - val_loss: 924.7014 - val_mean_absolute_error: 24.1529\n",
      "Epoch 34/100\n",
      "1758/1758 [==============================] - 3s 2ms/step - loss: 761.7216 - mean_absolute_error: 21.9843 - val_loss: 941.9116 - val_mean_absolute_error: 24.5364\n",
      "Epoch 35/100\n",
      "1758/1758 [==============================] - 3s 2ms/step - loss: 762.2532 - mean_absolute_error: 21.9953 - val_loss: 946.4897 - val_mean_absolute_error: 24.4537\n",
      "550/550 [==============================] - 1s 1ms/step - loss: 897.0234 - mean_absolute_error: 23.9552\n",
      "Mean Absolute Error on Test Set: 23.955175399780273\n"
     ]
    },
    {
     "name": "stderr",
     "output_type": "stream",
     "text": [
      "c:\\Users\\danye\\AppData\\Local\\Programs\\Python\\Python311\\Lib\\site-packages\\keras\\src\\engine\\training.py:3103: UserWarning: You are saving your model as an HDF5 file via `model.save()`. This file format is considered legacy. We recommend using instead the native Keras format, e.g. `model.save('my_model.keras')`.\n",
      "  saving_api.save_model(\n",
      "2024/05/29 21:02:20 WARNING mlflow.tensorflow: You are saving a TensorFlow Core model or Keras model without a signature. Inference with mlflow.pyfunc.spark_udf() will not work unless the model's pyfunc representation accepts pandas DataFrames as inference inputs.\n"
     ]
    },
    {
     "name": "stdout",
     "output_type": "stream",
     "text": [
      "INFO:tensorflow:Assets written to: C:\\Users\\danye\\AppData\\Local\\Temp\\tmp413yynrn\\model\\data\\model\\assets\n"
     ]
    },
    {
     "name": "stderr",
     "output_type": "stream",
     "text": [
      "INFO:tensorflow:Assets written to: C:\\Users\\danye\\AppData\\Local\\Temp\\tmp413yynrn\\model\\data\\model\\assets\n",
      "c:\\Users\\danye\\AppData\\Local\\Programs\\Python\\Python311\\Lib\\site-packages\\_distutils_hack\\__init__.py:33: UserWarning: Setuptools is replacing distutils.\n",
      "  warnings.warn(\"Setuptools is replacing distutils.\")\n"
     ]
    }
   ],
   "source": [
    "# Iniciar una nueva corrida de MLFlow\n",
    "with mlflow.start_run() as run:\n",
    "    # Entrenar el modelo\n",
    "    history = model.fit(X_train_scaled, y_train, validation_split=0.2, epochs=100, batch_size=32, callbacks=[early_stopping])\n",
    "    \n",
    "    # Evaluar el modelo\n",
    "    loss, mae = model.evaluate(X_test_scaled, y_test)\n",
    "    print(f'Mean Absolute Error on Test Set: {mae}')\n",
    "    \n",
    "    # Loggear los parámetros y métricas en MLFlow\n",
    "    mlflow.log_param(\"optimizer\", \"adam\")\n",
    "    mlflow.log_param(\"loss\", \"mean_squared_error\")\n",
    "    mlflow.log_param(\"epochs\", 100)\n",
    "    mlflow.log_param(\"batch_size\", 32)\n",
    "    mlflow.log_metric(\"mae\", mae)\n",
    "    mlflow.log_metric(\"loss\", loss)\n",
    "    \n",
    "    # Guardar el modelo usando Keras\n",
    "    model_path = \"models/Proy3_model\"\n",
    "    os.makedirs(model_path, exist_ok=True)\n",
    "    model.save(os.path.join(model_path, \"model.h5\"))\n",
    "    \n",
    "    # Loggear el modelo en MLFlow\n",
    "    mlflow.keras.log_model(model, \"Proy3_model\")"
   ]
  },
  {
   "cell_type": "code",
   "execution_count": 14,
   "metadata": {},
   "outputs": [],
   "source": [
    "# Para cargar el modelo posteriormente\n",
    "from tensorflow.keras.models import load_model\n",
    "\n",
    "loaded_model = load_model(os.path.join(model_path, \"model.h5\"))"
   ]
  },
  {
   "cell_type": "code",
   "execution_count": 16,
   "metadata": {},
   "outputs": [
    {
     "name": "stdout",
     "output_type": "stream",
     "text": [
      "550/550 [==============================] - 1s 1ms/step\n"
     ]
    },
    {
     "data": {
      "text/plain": [
       "array([[308.82968],\n",
       "       [203.98988],\n",
       "       [338.13443],\n",
       "       ...,\n",
       "       [245.49313],\n",
       "       [243.08623],\n",
       "       [231.37932]], dtype=float32)"
      ]
     },
     "execution_count": 16,
     "metadata": {},
     "output_type": "execute_result"
    }
   ],
   "source": [
    "# Usar el modelo cargado para hacer predicciones\n",
    "predictions = loaded_model.predict(X_test_scaled)\n",
    "predictions"
   ]
  },
  {
   "cell_type": "code",
   "execution_count": 17,
   "metadata": {},
   "outputs": [
    {
     "name": "stdout",
     "output_type": "stream",
     "text": [
      "Model: \"sequential\"\n",
      "_________________________________________________________________\n",
      " Layer (type)                Output Shape              Param #   \n",
      "=================================================================\n",
      " dense (Dense)               (None, 128)               18944     \n",
      "                                                                 \n",
      " dense_1 (Dense)             (None, 64)                8256      \n",
      "                                                                 \n",
      " dense_2 (Dense)             (None, 32)                2080      \n",
      "                                                                 \n",
      " dense_3 (Dense)             (None, 1)                 33        \n",
      "                                                                 \n",
      "=================================================================\n",
      "Total params: 29313 (114.50 KB)\n",
      "Trainable params: 29313 (114.50 KB)\n",
      "Non-trainable params: 0 (0.00 Byte)\n",
      "_________________________________________________________________\n"
     ]
    }
   ],
   "source": [
    "loaded_model.summary()"
   ]
  },
  {
   "cell_type": "code",
   "execution_count": 18,
   "metadata": {},
   "outputs": [
    {
     "data": {
      "text/plain": [
       "[[0,\n",
       "  0,\n",
       "  0,\n",
       "  0,\n",
       "  0,\n",
       "  0,\n",
       "  0,\n",
       "  0,\n",
       "  0,\n",
       "  0,\n",
       "  0,\n",
       "  0,\n",
       "  0,\n",
       "  0,\n",
       "  0,\n",
       "  0,\n",
       "  0,\n",
       "  0,\n",
       "  0,\n",
       "  0,\n",
       "  0,\n",
       "  0,\n",
       "  0,\n",
       "  0,\n",
       "  0,\n",
       "  0,\n",
       "  0,\n",
       "  0,\n",
       "  0,\n",
       "  0,\n",
       "  0,\n",
       "  0,\n",
       "  0,\n",
       "  0,\n",
       "  0,\n",
       "  0,\n",
       "  0,\n",
       "  0,\n",
       "  0,\n",
       "  0,\n",
       "  0,\n",
       "  0,\n",
       "  0,\n",
       "  0,\n",
       "  0,\n",
       "  0,\n",
       "  0,\n",
       "  0,\n",
       "  0,\n",
       "  0,\n",
       "  0,\n",
       "  0,\n",
       "  0,\n",
       "  0,\n",
       "  0,\n",
       "  0,\n",
       "  0,\n",
       "  0,\n",
       "  0,\n",
       "  0,\n",
       "  0,\n",
       "  0,\n",
       "  0,\n",
       "  0,\n",
       "  0,\n",
       "  0,\n",
       "  0,\n",
       "  0,\n",
       "  0,\n",
       "  0,\n",
       "  0,\n",
       "  0,\n",
       "  0,\n",
       "  0,\n",
       "  0,\n",
       "  0,\n",
       "  0,\n",
       "  0,\n",
       "  0,\n",
       "  0,\n",
       "  0,\n",
       "  0,\n",
       "  0,\n",
       "  0,\n",
       "  0,\n",
       "  0,\n",
       "  0,\n",
       "  0,\n",
       "  0,\n",
       "  0,\n",
       "  0,\n",
       "  0,\n",
       "  0,\n",
       "  0,\n",
       "  0,\n",
       "  0,\n",
       "  0,\n",
       "  0,\n",
       "  0,\n",
       "  0,\n",
       "  0,\n",
       "  0,\n",
       "  0,\n",
       "  0,\n",
       "  0,\n",
       "  0,\n",
       "  0,\n",
       "  0,\n",
       "  0,\n",
       "  0,\n",
       "  0,\n",
       "  0,\n",
       "  0,\n",
       "  0,\n",
       "  0,\n",
       "  0,\n",
       "  0,\n",
       "  0,\n",
       "  0,\n",
       "  0,\n",
       "  0,\n",
       "  0,\n",
       "  0,\n",
       "  0,\n",
       "  0,\n",
       "  0,\n",
       "  0,\n",
       "  0,\n",
       "  0,\n",
       "  0,\n",
       "  0,\n",
       "  0,\n",
       "  0,\n",
       "  0,\n",
       "  0,\n",
       "  0,\n",
       "  0,\n",
       "  0,\n",
       "  0,\n",
       "  0,\n",
       "  0,\n",
       "  0,\n",
       "  0,\n",
       "  0,\n",
       "  0,\n",
       "  0,\n",
       "  0,\n",
       "  0]]"
      ]
     },
     "execution_count": 18,
     "metadata": {},
     "output_type": "execute_result"
    }
   ],
   "source": [
    "data=[[0 for i in range(148)]]\n",
    "data"
   ]
  }
 ],
 "metadata": {
  "kernelspec": {
   "display_name": "Python 3",
   "language": "python",
   "name": "python3"
  },
  "language_info": {
   "codemirror_mode": {
    "name": "ipython",
    "version": 3
   },
   "file_extension": ".py",
   "mimetype": "text/x-python",
   "name": "python",
   "nbconvert_exporter": "python",
   "pygments_lexer": "ipython3",
   "version": "3.11.7"
  }
 },
 "nbformat": 4,
 "nbformat_minor": 2
}
