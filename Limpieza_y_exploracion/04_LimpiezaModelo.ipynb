{
 "cells": [
  {
   "cell_type": "code",
   "execution_count": 59,
   "metadata": {},
   "outputs": [],
   "source": [
    "import pandas as pd\n",
    "import plotly.express as px\n",
    "import numpy as np"
   ]
  },
  {
   "cell_type": "markdown",
   "metadata": {},
   "source": [
    "### Codificación de variables"
   ]
  },
  {
   "cell_type": "code",
   "execution_count": 60,
   "metadata": {},
   "outputs": [
    {
     "data": {
      "text/plain": [
       "(87884, 38)"
      ]
     },
     "execution_count": 60,
     "metadata": {},
     "output_type": "execute_result"
    }
   ],
   "source": [
    "datos = pd.read_csv(\"IcfesLimpio.csv\")\n",
    "datos.shape"
   ]
  },
  {
   "cell_type": "code",
   "execution_count": 61,
   "metadata": {},
   "outputs": [],
   "source": [
    "# Eliminar identificador comun\n",
    "datos.drop(\"estu_consecutivo\", axis=1, inplace=True)"
   ]
  },
  {
   "cell_type": "code",
   "execution_count": 62,
   "metadata": {},
   "outputs": [
    {
     "data": {
      "text/plain": [
       "estu_tipodocumento                 11\n",
       "cole_area_ubicacion                 2\n",
       "cole_bilingue                       2\n",
       "cole_caracter                       4\n",
       "cole_cod_dane_establecimiento     310\n",
       "cole_cod_dane_sede                327\n",
       "cole_cod_mcpio_ubicacion          122\n",
       "cole_genero                         3\n",
       "cole_jornada                        6\n",
       "cole_naturaleza                     2\n",
       "estu_cod_depto_presentacion        19\n",
       "estu_cod_mcpio_presentacion        69\n",
       "estu_cod_reside_depto              18\n",
       "estu_cod_reside_mcpio             195\n",
       "estu_estadoinvestigacion            4\n",
       "estu_genero                         2\n",
       "estu_nacionalidad                   8\n",
       "estu_privado_libertad               2\n",
       "fami_cuartoshogar                   5\n",
       "fami_educacionmadre                12\n",
       "fami_educacionpadre                12\n",
       "fami_estratovivienda                7\n",
       "fami_personashogar                  5\n",
       "fami_tieneautomovil                 2\n",
       "fami_tienecomputador                2\n",
       "fami_tieneinternet                  2\n",
       "fami_tienelavadora                  2\n",
       "desemp_ingles                       5\n",
       "punt_ingles                        78\n",
       "punt_matematicas                   83\n",
       "punt_sociales_ciudadanas           85\n",
       "punt_c_naturales                   80\n",
       "punt_lectura_critica               77\n",
       "punt_global                       328\n",
       "año                                 9\n",
       "semestre                            3\n",
       "estu_fechanacimiento_dt          6400\n",
       "dtype: int64"
      ]
     },
     "execution_count": 62,
     "metadata": {},
     "output_type": "execute_result"
    }
   ],
   "source": [
    "datos.nunique()"
   ]
  },
  {
   "cell_type": "markdown",
   "metadata": {},
   "source": [
    "### Variables categoricas dummy"
   ]
  },
  {
   "cell_type": "code",
   "execution_count": 63,
   "metadata": {},
   "outputs": [],
   "source": [
    "# se dummifica las variables con menos de 20 categorias\n",
    "lista = []\n",
    "for column in datos.columns.to_list():\n",
    "    if datos.nunique()[column] < 20 and column != \"año\":\n",
    "        lista.append(column)"
   ]
  },
  {
   "cell_type": "code",
   "execution_count": 64,
   "metadata": {},
   "outputs": [],
   "source": [
    "datos = pd.get_dummies(datos,columns=lista, drop_first=False)"
   ]
  },
  {
   "cell_type": "code",
   "execution_count": 65,
   "metadata": {},
   "outputs": [],
   "source": [
    "datos[\"año_nacimiento\"] = datos[\"estu_fechanacimiento_dt\"].astype(str).str[:4].astype(int)\n",
    "datos.drop(\"estu_fechanacimiento_dt\", axis=1, inplace=True)"
   ]
  },
  {
   "cell_type": "markdown",
   "metadata": {},
   "source": [
    "### codificación target encodig"
   ]
  },
  {
   "cell_type": "code",
   "execution_count": 66,
   "metadata": {},
   "outputs": [],
   "source": [
    "# se utiliza target encoding para las variables de más de 20 categorias\n",
    "promedio_global = datos['punt_global'].mean()\n",
    "dics = {}\n",
    "for column in datos.columns.to_list():\n",
    "    if datos.nunique()[column] > 20 and \"punt\" not in column and \"año\" not in column:\n",
    "        # Calculate mean house price for each city\n",
    "        mean_encoded = datos.groupby(column)['punt_global'].mean()\n",
    "        smooth_encoded = (mean_encoded * datos[column].value_counts() + promedio_global) / (datos[column].value_counts() + 1)\n",
    "        datos[f'{column}_encoded'] = datos[column].map(smooth_encoded)\n",
    "        coded = pd.DataFrame()\n",
    "        coded[f'{column}_encoded']= datos[f'{column}_encoded']\n",
    "        coded[column] = datos[column]\n",
    "        dics[column] = coded\n",
    "        datos.drop(column, axis=1, inplace = True)"
   ]
  },
  {
   "cell_type": "code",
   "execution_count": 67,
   "metadata": {},
   "outputs": [
    {
     "data": {
      "text/html": [
       "<div>\n",
       "<style scoped>\n",
       "    .dataframe tbody tr th:only-of-type {\n",
       "        vertical-align: middle;\n",
       "    }\n",
       "\n",
       "    .dataframe tbody tr th {\n",
       "        vertical-align: top;\n",
       "    }\n",
       "\n",
       "    .dataframe thead th {\n",
       "        text-align: right;\n",
       "    }\n",
       "</style>\n",
       "<table border=\"1\" class=\"dataframe\">\n",
       "  <thead>\n",
       "    <tr style=\"text-align: right;\">\n",
       "      <th></th>\n",
       "      <th>punt_ingles</th>\n",
       "      <th>punt_matematicas</th>\n",
       "      <th>punt_sociales_ciudadanas</th>\n",
       "      <th>punt_c_naturales</th>\n",
       "      <th>punt_lectura_critica</th>\n",
       "      <th>punt_global</th>\n",
       "      <th>año</th>\n",
       "      <th>estu_tipodocumento_CC</th>\n",
       "      <th>estu_tipodocumento_CE</th>\n",
       "      <th>estu_tipodocumento_CR</th>\n",
       "      <th>...</th>\n",
       "      <th>desemp_ingles_B1</th>\n",
       "      <th>semestre_1</th>\n",
       "      <th>semestre_2</th>\n",
       "      <th>semestre_4</th>\n",
       "      <th>año_nacimiento</th>\n",
       "      <th>cole_cod_dane_establecimiento_encoded</th>\n",
       "      <th>cole_cod_dane_sede_encoded</th>\n",
       "      <th>cole_cod_mcpio_ubicacion_encoded</th>\n",
       "      <th>estu_cod_mcpio_presentacion_encoded</th>\n",
       "      <th>estu_cod_reside_mcpio_encoded</th>\n",
       "    </tr>\n",
       "  </thead>\n",
       "  <tbody>\n",
       "    <tr>\n",
       "      <th>0</th>\n",
       "      <td>53.0</td>\n",
       "      <td>62.0</td>\n",
       "      <td>53.0</td>\n",
       "      <td>51.0</td>\n",
       "      <td>54.0</td>\n",
       "      <td>274.0</td>\n",
       "      <td>2015</td>\n",
       "      <td>False</td>\n",
       "      <td>False</td>\n",
       "      <td>False</td>\n",
       "      <td>...</td>\n",
       "      <td>False</td>\n",
       "      <td>False</td>\n",
       "      <td>True</td>\n",
       "      <td>False</td>\n",
       "      <td>1999</td>\n",
       "      <td>256.552815</td>\n",
       "      <td>256.552815</td>\n",
       "      <td>253.403924</td>\n",
       "      <td>270.286881</td>\n",
       "      <td>253.708284</td>\n",
       "    </tr>\n",
       "    <tr>\n",
       "      <th>1</th>\n",
       "      <td>68.0</td>\n",
       "      <td>72.0</td>\n",
       "      <td>69.0</td>\n",
       "      <td>66.0</td>\n",
       "      <td>72.0</td>\n",
       "      <td>348.0</td>\n",
       "      <td>2014</td>\n",
       "      <td>False</td>\n",
       "      <td>False</td>\n",
       "      <td>False</td>\n",
       "      <td>...</td>\n",
       "      <td>False</td>\n",
       "      <td>False</td>\n",
       "      <td>True</td>\n",
       "      <td>False</td>\n",
       "      <td>1997</td>\n",
       "      <td>275.371382</td>\n",
       "      <td>273.762494</td>\n",
       "      <td>278.796528</td>\n",
       "      <td>270.286881</td>\n",
       "      <td>278.376939</td>\n",
       "    </tr>\n",
       "    <tr>\n",
       "      <th>2</th>\n",
       "      <td>49.0</td>\n",
       "      <td>56.0</td>\n",
       "      <td>49.0</td>\n",
       "      <td>51.0</td>\n",
       "      <td>60.0</td>\n",
       "      <td>268.0</td>\n",
       "      <td>2016</td>\n",
       "      <td>False</td>\n",
       "      <td>False</td>\n",
       "      <td>False</td>\n",
       "      <td>...</td>\n",
       "      <td>False</td>\n",
       "      <td>False</td>\n",
       "      <td>True</td>\n",
       "      <td>False</td>\n",
       "      <td>1999</td>\n",
       "      <td>271.668806</td>\n",
       "      <td>271.668806</td>\n",
       "      <td>283.446840</td>\n",
       "      <td>280.093872</td>\n",
       "      <td>283.943115</td>\n",
       "    </tr>\n",
       "    <tr>\n",
       "      <th>3</th>\n",
       "      <td>52.0</td>\n",
       "      <td>68.0</td>\n",
       "      <td>52.0</td>\n",
       "      <td>54.0</td>\n",
       "      <td>64.0</td>\n",
       "      <td>295.0</td>\n",
       "      <td>2016</td>\n",
       "      <td>False</td>\n",
       "      <td>False</td>\n",
       "      <td>False</td>\n",
       "      <td>...</td>\n",
       "      <td>False</td>\n",
       "      <td>False</td>\n",
       "      <td>True</td>\n",
       "      <td>False</td>\n",
       "      <td>2000</td>\n",
       "      <td>244.459308</td>\n",
       "      <td>244.459308</td>\n",
       "      <td>244.459308</td>\n",
       "      <td>254.947960</td>\n",
       "      <td>244.459308</td>\n",
       "    </tr>\n",
       "    <tr>\n",
       "      <th>4</th>\n",
       "      <td>40.0</td>\n",
       "      <td>59.0</td>\n",
       "      <td>28.0</td>\n",
       "      <td>45.0</td>\n",
       "      <td>51.0</td>\n",
       "      <td>227.0</td>\n",
       "      <td>2019</td>\n",
       "      <td>False</td>\n",
       "      <td>False</td>\n",
       "      <td>False</td>\n",
       "      <td>...</td>\n",
       "      <td>False</td>\n",
       "      <td>False</td>\n",
       "      <td>False</td>\n",
       "      <td>True</td>\n",
       "      <td>2002</td>\n",
       "      <td>249.823691</td>\n",
       "      <td>249.823691</td>\n",
       "      <td>273.910278</td>\n",
       "      <td>273.099522</td>\n",
       "      <td>257.853831</td>\n",
       "    </tr>\n",
       "  </tbody>\n",
       "</table>\n",
       "<p>5 rows × 153 columns</p>\n",
       "</div>"
      ],
      "text/plain": [
       "   punt_ingles  punt_matematicas  punt_sociales_ciudadanas  punt_c_naturales  \\\n",
       "0         53.0              62.0                      53.0              51.0   \n",
       "1         68.0              72.0                      69.0              66.0   \n",
       "2         49.0              56.0                      49.0              51.0   \n",
       "3         52.0              68.0                      52.0              54.0   \n",
       "4         40.0              59.0                      28.0              45.0   \n",
       "\n",
       "   punt_lectura_critica  punt_global   año  estu_tipodocumento_CC  \\\n",
       "0                  54.0        274.0  2015                  False   \n",
       "1                  72.0        348.0  2014                  False   \n",
       "2                  60.0        268.0  2016                  False   \n",
       "3                  64.0        295.0  2016                  False   \n",
       "4                  51.0        227.0  2019                  False   \n",
       "\n",
       "   estu_tipodocumento_CE  estu_tipodocumento_CR  ...  desemp_ingles_B1  \\\n",
       "0                  False                  False  ...             False   \n",
       "1                  False                  False  ...             False   \n",
       "2                  False                  False  ...             False   \n",
       "3                  False                  False  ...             False   \n",
       "4                  False                  False  ...             False   \n",
       "\n",
       "   semestre_1  semestre_2  semestre_4  año_nacimiento  \\\n",
       "0       False        True       False            1999   \n",
       "1       False        True       False            1997   \n",
       "2       False        True       False            1999   \n",
       "3       False        True       False            2000   \n",
       "4       False       False        True            2002   \n",
       "\n",
       "   cole_cod_dane_establecimiento_encoded  cole_cod_dane_sede_encoded  \\\n",
       "0                             256.552815                  256.552815   \n",
       "1                             275.371382                  273.762494   \n",
       "2                             271.668806                  271.668806   \n",
       "3                             244.459308                  244.459308   \n",
       "4                             249.823691                  249.823691   \n",
       "\n",
       "   cole_cod_mcpio_ubicacion_encoded  estu_cod_mcpio_presentacion_encoded  \\\n",
       "0                        253.403924                           270.286881   \n",
       "1                        278.796528                           270.286881   \n",
       "2                        283.446840                           280.093872   \n",
       "3                        244.459308                           254.947960   \n",
       "4                        273.910278                           273.099522   \n",
       "\n",
       "   estu_cod_reside_mcpio_encoded  \n",
       "0                     253.708284  \n",
       "1                     278.376939  \n",
       "2                     283.943115  \n",
       "3                     244.459308  \n",
       "4                     257.853831  \n",
       "\n",
       "[5 rows x 153 columns]"
      ]
     },
     "execution_count": 67,
     "metadata": {},
     "output_type": "execute_result"
    }
   ],
   "source": [
    "datos.head()"
   ]
  },
  {
   "cell_type": "code",
   "execution_count": 68,
   "metadata": {},
   "outputs": [],
   "source": [
    "datos.to_csv(\"datosModelo.csv\", index=False)"
   ]
  },
  {
   "cell_type": "code",
   "execution_count": 70,
   "metadata": {},
   "outputs": [],
   "source": [
    "for key in dics:\n",
    "    dics[key].to_csv(f\"dic_{key}.csv\", index=False)"
   ]
  }
 ],
 "metadata": {
  "kernelspec": {
   "display_name": "Python 3",
   "language": "python",
   "name": "python3"
  },
  "language_info": {
   "codemirror_mode": {
    "name": "ipython",
    "version": 3
   },
   "file_extension": ".py",
   "mimetype": "text/x-python",
   "name": "python",
   "nbconvert_exporter": "python",
   "pygments_lexer": "ipython3",
   "version": "3.11.7"
  }
 },
 "nbformat": 4,
 "nbformat_minor": 2
}
